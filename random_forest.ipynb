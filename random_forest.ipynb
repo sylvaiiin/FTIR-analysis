{
  "cells": [
    {
      "cell_type": "markdown",
      "metadata": {
        "id": "view-in-github",
        "colab_type": "text"
      },
      "source": [
        "<a href=\"https://colab.research.google.com/github/sylvaiiin/FTIR-analysis/blob/main/random_forest.ipynb\" target=\"_parent\"><img src=\"https://colab.research.google.com/assets/colab-badge.svg\" alt=\"Open In Colab\"/></a>"
      ]
    },
    {
      "cell_type": "markdown",
      "metadata": {
        "id": "jVj0hvQL4qXQ"
      },
      "source": [
        "# Notebook 1 : data formatting for tree decision"
      ]
    },
    {
      "cell_type": "markdown",
      "metadata": {
        "id": "PAe6Up8u41z9"
      },
      "source": [
        "Notebook written by Sylvain Caillaud"
      ]
    },
    {
      "cell_type": "markdown",
      "metadata": {
        "id": "4V0nNrli46b5"
      },
      "source": [
        "Notebook for testing table formatting and continous variable treatment"
      ]
    },
    {
      "cell_type": "code",
      "execution_count": 1,
      "metadata": {
        "colab": {
          "base_uri": "https://localhost:8080/"
        },
        "id": "BTDBbAYs5jmz",
        "outputId": "0272ebe3-823d-4698-efe8-64eda65dfe2e"
      },
      "outputs": [
        {
          "output_type": "stream",
          "name": "stdout",
          "text": [
            "Populating the interactive namespace from numpy and matplotlib\n"
          ]
        }
      ],
      "source": [
        "# charger numpy as np, matplotlib as plt\n",
        "%pylab inline "
      ]
    },
    {
      "cell_type": "code",
      "execution_count": 2,
      "metadata": {
        "id": "2ydpMfaN5mO_"
      },
      "outputs": [],
      "source": [
        "plt.rc('font', **{'size': 12}) # règle la taille de police globalement pour les plots (en pt)"
      ]
    },
    {
      "cell_type": "code",
      "execution_count": 3,
      "metadata": {
        "id": "hsQIl0Pj5pYm"
      },
      "outputs": [],
      "source": [
        "import pandas as pd"
      ]
    },
    {
      "cell_type": "code",
      "execution_count": 4,
      "metadata": {
        "id": "Q5XpkcUGcsvG"
      },
      "outputs": [],
      "source": [
        "ismulticlass = True"
      ]
    },
    {
      "cell_type": "markdown",
      "metadata": {
        "id": "NXgMwbpd5vyd"
      },
      "source": [
        "# Data loading"
      ]
    },
    {
      "cell_type": "markdown",
      "metadata": {
        "id": "Beh8kbmS5xlH"
      },
      "source": [
        "This notebook use a dataset on transposble elements. This dataset was created on genome sequencing accross differents accessions in *Arabidopsis thaliana*.\n",
        "\n",
        "The dataset is available on my git https://raw.githubusercontent.com/sylvaiiin/TEmethylation/main/data/TE_ref.fulldataset.header.csv .\n"
      ]
    },
    {
      "cell_type": "code",
      "execution_count": 5,
      "metadata": {
        "colab": {
          "base_uri": "https://localhost:8080/"
        },
        "id": "n498-UIx612z",
        "outputId": "ec942af5-aebd-4f63-e2df-b4c52fb68e77"
      },
      "outputs": [
        {
          "output_type": "stream",
          "name": "stdout",
          "text": [
            "--2022-04-19 10:45:53--  https://raw.githubusercontent.com/sylvaiiin/TEmethylation/main/data/TE_nonref.filtered2.csv\n",
            "Resolving raw.githubusercontent.com (raw.githubusercontent.com)... 185.199.109.133, 185.199.110.133, 185.199.111.133, ...\n",
            "Connecting to raw.githubusercontent.com (raw.githubusercontent.com)|185.199.109.133|:443... connected.\n",
            "HTTP request sent, awaiting response... 200 OK\n",
            "Length: 5251161 (5.0M) [text/plain]\n",
            "Saving to: ‘TE_nonref.filtered2.csv’\n",
            "\n",
            "TE_nonref.filtered2 100%[===================>]   5.01M  --.-KB/s    in 0.07s   \n",
            "\n",
            "2022-04-19 10:45:54 (67.9 MB/s) - ‘TE_nonref.filtered2.csv’ saved [5251161/5251161]\n",
            "\n"
          ]
        }
      ],
      "source": [
        "!wget https://raw.githubusercontent.com/sylvaiiin/TEmethylation/main/data/TE_nonref.filtered2.csv\n",
        "df = pd.read_csv(\"TE_nonref.filtered2.csv\", sep=\"\\t\")\n",
        "\n",
        "# !wget https://raw.githubusercontent.com/sylvaiiin/TEmethylation/main/data/TE_ref.fulldataset.header.csv\n",
        "# df = pd.read_csv(\"TE_ref.fulldataset.header.csv\", sep=\"\\t\")\n",
        "\n",
        "# !wget https://raw.githubusercontent.com/sylvaiiin/TEmethylation/main/data/TE_ref.filtered.csv\n",
        "# df = pd.read_csv(\"TE_ref.filtered.csv\", sep=\"\\t\")"
      ]
    },
    {
      "cell_type": "code",
      "execution_count": 6,
      "metadata": {
        "colab": {
          "base_uri": "https://localhost:8080/",
          "height": 560
        },
        "id": "cFnV_iLE7oAP",
        "outputId": "48f1edd6-499a-4837-cf82-be7505c57031"
      },
      "outputs": [
        {
          "output_type": "execute_result",
          "data": {
            "text/plain": [
              "                              TEname     TEfamily TEsuperfamily     Carry  \\\n",
              "0    AT1-10001949-10001956-ATCOPIA28    ATCOPIA28     LTR/Copia  0.003704   \n",
              "1  AT1-10005763-10005772-ATDNAI27T9A  ATDNAI27T9A      DNA/MuDR  0.071504   \n",
              "2    AT1-10012780-10012787-ATCOPIA49    ATCOPIA49     LTR/Copia  0.030435   \n",
              "3        AT1-10015768-10015780-META1        META1     LTR/Copia  0.003247   \n",
              "4      AT1-10015768-10015782-ATHILA7      ATHILA7     LTR/Gypsy  0.047170   \n",
              "\n",
              "   LEFT.chr  LEFT.start  LEFT.end  LEFT.spot LEFT.G1name LEFT.G1orient  ...  \\\n",
              "0         1    10001649  10001949  intergene   AT1G28440             +  ...   \n",
              "1         1    10005463  10005763  intergene   AT1G28450             +  ...   \n",
              "2         1    10012480  10012780  intergene   AT1G28470             +  ...   \n",
              "3         1    10015468  10015768  intergene   AT1G28480             -  ...   \n",
              "4         1    10015468  10015768  intergene   AT1G28470             +  ...   \n",
              "\n",
              "   RIGHT.G2name RIGHT.G2orient RIGHT.G2dist  RIGHT.CGcompo  RIGHT.MeanC  \\\n",
              "0     AT1G28460              +         3975       0.012852     0.000000   \n",
              "1     AT1G28470              +         4110       0.037122     0.761388   \n",
              "2     AT1G28490              +         2833       0.102082     0.601466   \n",
              "3     AT1G28500              +         2612       0.101331     0.000000   \n",
              "4     AT1G28500              +         2610       0.101394     0.002657   \n",
              "\n",
              "   RIGHT.MeanNC  RIGHT.logratio  RIGHT.pvalspread  RIGHT.pvaldemeth  \\\n",
              "0      0.003693       -2.868450      6.403033e-01          0.359697   \n",
              "1      0.270289        0.449778      2.628227e-13          1.000000   \n",
              "2      0.064101        0.972348      1.568303e-44          1.000000   \n",
              "3      0.002986       -2.475030               NaN               NaN   \n",
              "4      0.003012       -0.054345      6.366332e-01          0.363367   \n",
              "\n",
              "   Centro_dist  \n",
              "0     0.269930  \n",
              "1     0.269652  \n",
              "2     0.269140  \n",
              "3     0.268921  \n",
              "4     0.268921  \n",
              "\n",
              "[5 rows x 37 columns]"
            ],
            "text/html": [
              "\n",
              "  <div id=\"df-1cddd50d-4345-48a9-a72d-aede9c0c8f44\">\n",
              "    <div class=\"colab-df-container\">\n",
              "      <div>\n",
              "<style scoped>\n",
              "    .dataframe tbody tr th:only-of-type {\n",
              "        vertical-align: middle;\n",
              "    }\n",
              "\n",
              "    .dataframe tbody tr th {\n",
              "        vertical-align: top;\n",
              "    }\n",
              "\n",
              "    .dataframe thead th {\n",
              "        text-align: right;\n",
              "    }\n",
              "</style>\n",
              "<table border=\"1\" class=\"dataframe\">\n",
              "  <thead>\n",
              "    <tr style=\"text-align: right;\">\n",
              "      <th></th>\n",
              "      <th>TEname</th>\n",
              "      <th>TEfamily</th>\n",
              "      <th>TEsuperfamily</th>\n",
              "      <th>Carry</th>\n",
              "      <th>LEFT.chr</th>\n",
              "      <th>LEFT.start</th>\n",
              "      <th>LEFT.end</th>\n",
              "      <th>LEFT.spot</th>\n",
              "      <th>LEFT.G1name</th>\n",
              "      <th>LEFT.G1orient</th>\n",
              "      <th>...</th>\n",
              "      <th>RIGHT.G2name</th>\n",
              "      <th>RIGHT.G2orient</th>\n",
              "      <th>RIGHT.G2dist</th>\n",
              "      <th>RIGHT.CGcompo</th>\n",
              "      <th>RIGHT.MeanC</th>\n",
              "      <th>RIGHT.MeanNC</th>\n",
              "      <th>RIGHT.logratio</th>\n",
              "      <th>RIGHT.pvalspread</th>\n",
              "      <th>RIGHT.pvaldemeth</th>\n",
              "      <th>Centro_dist</th>\n",
              "    </tr>\n",
              "  </thead>\n",
              "  <tbody>\n",
              "    <tr>\n",
              "      <th>0</th>\n",
              "      <td>AT1-10001949-10001956-ATCOPIA28</td>\n",
              "      <td>ATCOPIA28</td>\n",
              "      <td>LTR/Copia</td>\n",
              "      <td>0.003704</td>\n",
              "      <td>1</td>\n",
              "      <td>10001649</td>\n",
              "      <td>10001949</td>\n",
              "      <td>intergene</td>\n",
              "      <td>AT1G28440</td>\n",
              "      <td>+</td>\n",
              "      <td>...</td>\n",
              "      <td>AT1G28460</td>\n",
              "      <td>+</td>\n",
              "      <td>3975</td>\n",
              "      <td>0.012852</td>\n",
              "      <td>0.000000</td>\n",
              "      <td>0.003693</td>\n",
              "      <td>-2.868450</td>\n",
              "      <td>6.403033e-01</td>\n",
              "      <td>0.359697</td>\n",
              "      <td>0.269930</td>\n",
              "    </tr>\n",
              "    <tr>\n",
              "      <th>1</th>\n",
              "      <td>AT1-10005763-10005772-ATDNAI27T9A</td>\n",
              "      <td>ATDNAI27T9A</td>\n",
              "      <td>DNA/MuDR</td>\n",
              "      <td>0.071504</td>\n",
              "      <td>1</td>\n",
              "      <td>10005463</td>\n",
              "      <td>10005763</td>\n",
              "      <td>intergene</td>\n",
              "      <td>AT1G28450</td>\n",
              "      <td>+</td>\n",
              "      <td>...</td>\n",
              "      <td>AT1G28470</td>\n",
              "      <td>+</td>\n",
              "      <td>4110</td>\n",
              "      <td>0.037122</td>\n",
              "      <td>0.761388</td>\n",
              "      <td>0.270289</td>\n",
              "      <td>0.449778</td>\n",
              "      <td>2.628227e-13</td>\n",
              "      <td>1.000000</td>\n",
              "      <td>0.269652</td>\n",
              "    </tr>\n",
              "    <tr>\n",
              "      <th>2</th>\n",
              "      <td>AT1-10012780-10012787-ATCOPIA49</td>\n",
              "      <td>ATCOPIA49</td>\n",
              "      <td>LTR/Copia</td>\n",
              "      <td>0.030435</td>\n",
              "      <td>1</td>\n",
              "      <td>10012480</td>\n",
              "      <td>10012780</td>\n",
              "      <td>intergene</td>\n",
              "      <td>AT1G28470</td>\n",
              "      <td>+</td>\n",
              "      <td>...</td>\n",
              "      <td>AT1G28490</td>\n",
              "      <td>+</td>\n",
              "      <td>2833</td>\n",
              "      <td>0.102082</td>\n",
              "      <td>0.601466</td>\n",
              "      <td>0.064101</td>\n",
              "      <td>0.972348</td>\n",
              "      <td>1.568303e-44</td>\n",
              "      <td>1.000000</td>\n",
              "      <td>0.269140</td>\n",
              "    </tr>\n",
              "    <tr>\n",
              "      <th>3</th>\n",
              "      <td>AT1-10015768-10015780-META1</td>\n",
              "      <td>META1</td>\n",
              "      <td>LTR/Copia</td>\n",
              "      <td>0.003247</td>\n",
              "      <td>1</td>\n",
              "      <td>10015468</td>\n",
              "      <td>10015768</td>\n",
              "      <td>intergene</td>\n",
              "      <td>AT1G28480</td>\n",
              "      <td>-</td>\n",
              "      <td>...</td>\n",
              "      <td>AT1G28500</td>\n",
              "      <td>+</td>\n",
              "      <td>2612</td>\n",
              "      <td>0.101331</td>\n",
              "      <td>0.000000</td>\n",
              "      <td>0.002986</td>\n",
              "      <td>-2.475030</td>\n",
              "      <td>NaN</td>\n",
              "      <td>NaN</td>\n",
              "      <td>0.268921</td>\n",
              "    </tr>\n",
              "    <tr>\n",
              "      <th>4</th>\n",
              "      <td>AT1-10015768-10015782-ATHILA7</td>\n",
              "      <td>ATHILA7</td>\n",
              "      <td>LTR/Gypsy</td>\n",
              "      <td>0.047170</td>\n",
              "      <td>1</td>\n",
              "      <td>10015468</td>\n",
              "      <td>10015768</td>\n",
              "      <td>intergene</td>\n",
              "      <td>AT1G28470</td>\n",
              "      <td>+</td>\n",
              "      <td>...</td>\n",
              "      <td>AT1G28500</td>\n",
              "      <td>+</td>\n",
              "      <td>2610</td>\n",
              "      <td>0.101394</td>\n",
              "      <td>0.002657</td>\n",
              "      <td>0.003012</td>\n",
              "      <td>-0.054345</td>\n",
              "      <td>6.366332e-01</td>\n",
              "      <td>0.363367</td>\n",
              "      <td>0.268921</td>\n",
              "    </tr>\n",
              "  </tbody>\n",
              "</table>\n",
              "<p>5 rows × 37 columns</p>\n",
              "</div>\n",
              "      <button class=\"colab-df-convert\" onclick=\"convertToInteractive('df-1cddd50d-4345-48a9-a72d-aede9c0c8f44')\"\n",
              "              title=\"Convert this dataframe to an interactive table.\"\n",
              "              style=\"display:none;\">\n",
              "        \n",
              "  <svg xmlns=\"http://www.w3.org/2000/svg\" height=\"24px\"viewBox=\"0 0 24 24\"\n",
              "       width=\"24px\">\n",
              "    <path d=\"M0 0h24v24H0V0z\" fill=\"none\"/>\n",
              "    <path d=\"M18.56 5.44l.94 2.06.94-2.06 2.06-.94-2.06-.94-.94-2.06-.94 2.06-2.06.94zm-11 1L8.5 8.5l.94-2.06 2.06-.94-2.06-.94L8.5 2.5l-.94 2.06-2.06.94zm10 10l.94 2.06.94-2.06 2.06-.94-2.06-.94-.94-2.06-.94 2.06-2.06.94z\"/><path d=\"M17.41 7.96l-1.37-1.37c-.4-.4-.92-.59-1.43-.59-.52 0-1.04.2-1.43.59L10.3 9.45l-7.72 7.72c-.78.78-.78 2.05 0 2.83L4 21.41c.39.39.9.59 1.41.59.51 0 1.02-.2 1.41-.59l7.78-7.78 2.81-2.81c.8-.78.8-2.07 0-2.86zM5.41 20L4 18.59l7.72-7.72 1.47 1.35L5.41 20z\"/>\n",
              "  </svg>\n",
              "      </button>\n",
              "      \n",
              "  <style>\n",
              "    .colab-df-container {\n",
              "      display:flex;\n",
              "      flex-wrap:wrap;\n",
              "      gap: 12px;\n",
              "    }\n",
              "\n",
              "    .colab-df-convert {\n",
              "      background-color: #E8F0FE;\n",
              "      border: none;\n",
              "      border-radius: 50%;\n",
              "      cursor: pointer;\n",
              "      display: none;\n",
              "      fill: #1967D2;\n",
              "      height: 32px;\n",
              "      padding: 0 0 0 0;\n",
              "      width: 32px;\n",
              "    }\n",
              "\n",
              "    .colab-df-convert:hover {\n",
              "      background-color: #E2EBFA;\n",
              "      box-shadow: 0px 1px 2px rgba(60, 64, 67, 0.3), 0px 1px 3px 1px rgba(60, 64, 67, 0.15);\n",
              "      fill: #174EA6;\n",
              "    }\n",
              "\n",
              "    [theme=dark] .colab-df-convert {\n",
              "      background-color: #3B4455;\n",
              "      fill: #D2E3FC;\n",
              "    }\n",
              "\n",
              "    [theme=dark] .colab-df-convert:hover {\n",
              "      background-color: #434B5C;\n",
              "      box-shadow: 0px 1px 3px 1px rgba(0, 0, 0, 0.15);\n",
              "      filter: drop-shadow(0px 1px 2px rgba(0, 0, 0, 0.3));\n",
              "      fill: #FFFFFF;\n",
              "    }\n",
              "  </style>\n",
              "\n",
              "      <script>\n",
              "        const buttonEl =\n",
              "          document.querySelector('#df-1cddd50d-4345-48a9-a72d-aede9c0c8f44 button.colab-df-convert');\n",
              "        buttonEl.style.display =\n",
              "          google.colab.kernel.accessAllowed ? 'block' : 'none';\n",
              "\n",
              "        async function convertToInteractive(key) {\n",
              "          const element = document.querySelector('#df-1cddd50d-4345-48a9-a72d-aede9c0c8f44');\n",
              "          const dataTable =\n",
              "            await google.colab.kernel.invokeFunction('convertToInteractive',\n",
              "                                                     [key], {});\n",
              "          if (!dataTable) return;\n",
              "\n",
              "          const docLinkHtml = 'Like what you see? Visit the ' +\n",
              "            '<a target=\"_blank\" href=https://colab.research.google.com/notebooks/data_table.ipynb>data table notebook</a>'\n",
              "            + ' to learn more about interactive tables.';\n",
              "          element.innerHTML = '';\n",
              "          dataTable['output_type'] = 'display_data';\n",
              "          await google.colab.output.renderOutput(dataTable, element);\n",
              "          const docLink = document.createElement('div');\n",
              "          docLink.innerHTML = docLinkHtml;\n",
              "          element.appendChild(docLink);\n",
              "        }\n",
              "      </script>\n",
              "    </div>\n",
              "  </div>\n",
              "  "
            ]
          },
          "metadata": {},
          "execution_count": 6
        }
      ],
      "source": [
        "df.head()"
      ]
    },
    {
      "cell_type": "markdown",
      "metadata": {
        "id": "Ch_rI55jHBs_"
      },
      "source": [
        "## Dataset cleanup and formatting\n",
        "\n",
        "We choose the columns that are interesting for decisions trees. We want supervised learning to develop a method to predict the spreading of methylation from the dataset. \n",
        "\n",
        "Some variables, such as TEname, are not informative for the supervised learning."
      ]
    },
    {
      "cell_type": "code",
      "execution_count": 7,
      "metadata": {
        "id": "lxgL3o_rHqCD"
      },
      "outputs": [],
      "source": [
        "df = df.drop(columns=['TEname', \n",
        "                      'LEFT.start', 'LEFT.end', 'LEFT.G1dist', 'LEFT.G2name', 'LEFT.G2orient', 'LEFT.G2dist', 'LEFT.MeanC', 'LEFT.MeanNC', 'LEFT.logratio', 'LEFT.pvaldemeth', \n",
        "                      'RIGHT.chr', 'RIGHT.start', 'RIGHT.end', 'RIGHT.G1dist', 'RIGHT.G2name', 'RIGHT.G2orient', 'RIGHT.G2dist', 'RIGHT.MeanC', 'RIGHT.MeanNC', 'RIGHT.logratio', 'RIGHT.pvaldemeth'])\n",
        "\n",
        "df = df.rename(columns={'LEFT.chr': 'Chr'})"
      ]
    },
    {
      "cell_type": "code",
      "execution_count": 8,
      "metadata": {
        "colab": {
          "base_uri": "https://localhost:8080/",
          "height": 206
        },
        "id": "MHfCcn50K7Ou",
        "outputId": "731b6c89-8e39-4736-cbbe-c4e1da1b085c"
      },
      "outputs": [
        {
          "output_type": "execute_result",
          "data": {
            "text/plain": [
              "      TEfamily TEsuperfamily     Carry  Chr  LEFT.spot LEFT.G1name  \\\n",
              "0    ATCOPIA28     LTR/Copia  0.003704    1  intergene   AT1G28440   \n",
              "1  ATDNAI27T9A      DNA/MuDR  0.071504    1  intergene   AT1G28450   \n",
              "2    ATCOPIA49     LTR/Copia  0.030435    1  intergene   AT1G28470   \n",
              "3        META1     LTR/Copia  0.003247    1  intergene   AT1G28480   \n",
              "4      ATHILA7     LTR/Gypsy  0.047170    1  intergene   AT1G28470   \n",
              "\n",
              "  LEFT.G1orient  LEFT.CGcompo  LEFT.pvalspread RIGHT.spot RIGHT.G1name  \\\n",
              "0             +      0.029982     6.816591e-01  intergene    AT1G28450   \n",
              "1             +      0.059488     5.339231e-88  intergene    AT1G28460   \n",
              "2             +      0.057420     5.661674e-06  intergene    AT1G28480   \n",
              "3             -      0.029069              NaN       exon    AT1G28490   \n",
              "4             +      0.028920     2.185482e-11       exon    AT1G28490   \n",
              "\n",
              "  RIGHT.G1orient  RIGHT.CGcompo  RIGHT.pvalspread  Centro_dist  \n",
              "0              +       0.012852      6.403033e-01     0.269930  \n",
              "1              +       0.037122      2.628227e-13     0.269652  \n",
              "2              -       0.102082      1.568303e-44     0.269140  \n",
              "3              +       0.101331               NaN     0.268921  \n",
              "4              +       0.101394      6.366332e-01     0.268921  "
            ],
            "text/html": [
              "\n",
              "  <div id=\"df-30038ef5-b393-47a1-a2fe-a685fdad963a\">\n",
              "    <div class=\"colab-df-container\">\n",
              "      <div>\n",
              "<style scoped>\n",
              "    .dataframe tbody tr th:only-of-type {\n",
              "        vertical-align: middle;\n",
              "    }\n",
              "\n",
              "    .dataframe tbody tr th {\n",
              "        vertical-align: top;\n",
              "    }\n",
              "\n",
              "    .dataframe thead th {\n",
              "        text-align: right;\n",
              "    }\n",
              "</style>\n",
              "<table border=\"1\" class=\"dataframe\">\n",
              "  <thead>\n",
              "    <tr style=\"text-align: right;\">\n",
              "      <th></th>\n",
              "      <th>TEfamily</th>\n",
              "      <th>TEsuperfamily</th>\n",
              "      <th>Carry</th>\n",
              "      <th>Chr</th>\n",
              "      <th>LEFT.spot</th>\n",
              "      <th>LEFT.G1name</th>\n",
              "      <th>LEFT.G1orient</th>\n",
              "      <th>LEFT.CGcompo</th>\n",
              "      <th>LEFT.pvalspread</th>\n",
              "      <th>RIGHT.spot</th>\n",
              "      <th>RIGHT.G1name</th>\n",
              "      <th>RIGHT.G1orient</th>\n",
              "      <th>RIGHT.CGcompo</th>\n",
              "      <th>RIGHT.pvalspread</th>\n",
              "      <th>Centro_dist</th>\n",
              "    </tr>\n",
              "  </thead>\n",
              "  <tbody>\n",
              "    <tr>\n",
              "      <th>0</th>\n",
              "      <td>ATCOPIA28</td>\n",
              "      <td>LTR/Copia</td>\n",
              "      <td>0.003704</td>\n",
              "      <td>1</td>\n",
              "      <td>intergene</td>\n",
              "      <td>AT1G28440</td>\n",
              "      <td>+</td>\n",
              "      <td>0.029982</td>\n",
              "      <td>6.816591e-01</td>\n",
              "      <td>intergene</td>\n",
              "      <td>AT1G28450</td>\n",
              "      <td>+</td>\n",
              "      <td>0.012852</td>\n",
              "      <td>6.403033e-01</td>\n",
              "      <td>0.269930</td>\n",
              "    </tr>\n",
              "    <tr>\n",
              "      <th>1</th>\n",
              "      <td>ATDNAI27T9A</td>\n",
              "      <td>DNA/MuDR</td>\n",
              "      <td>0.071504</td>\n",
              "      <td>1</td>\n",
              "      <td>intergene</td>\n",
              "      <td>AT1G28450</td>\n",
              "      <td>+</td>\n",
              "      <td>0.059488</td>\n",
              "      <td>5.339231e-88</td>\n",
              "      <td>intergene</td>\n",
              "      <td>AT1G28460</td>\n",
              "      <td>+</td>\n",
              "      <td>0.037122</td>\n",
              "      <td>2.628227e-13</td>\n",
              "      <td>0.269652</td>\n",
              "    </tr>\n",
              "    <tr>\n",
              "      <th>2</th>\n",
              "      <td>ATCOPIA49</td>\n",
              "      <td>LTR/Copia</td>\n",
              "      <td>0.030435</td>\n",
              "      <td>1</td>\n",
              "      <td>intergene</td>\n",
              "      <td>AT1G28470</td>\n",
              "      <td>+</td>\n",
              "      <td>0.057420</td>\n",
              "      <td>5.661674e-06</td>\n",
              "      <td>intergene</td>\n",
              "      <td>AT1G28480</td>\n",
              "      <td>-</td>\n",
              "      <td>0.102082</td>\n",
              "      <td>1.568303e-44</td>\n",
              "      <td>0.269140</td>\n",
              "    </tr>\n",
              "    <tr>\n",
              "      <th>3</th>\n",
              "      <td>META1</td>\n",
              "      <td>LTR/Copia</td>\n",
              "      <td>0.003247</td>\n",
              "      <td>1</td>\n",
              "      <td>intergene</td>\n",
              "      <td>AT1G28480</td>\n",
              "      <td>-</td>\n",
              "      <td>0.029069</td>\n",
              "      <td>NaN</td>\n",
              "      <td>exon</td>\n",
              "      <td>AT1G28490</td>\n",
              "      <td>+</td>\n",
              "      <td>0.101331</td>\n",
              "      <td>NaN</td>\n",
              "      <td>0.268921</td>\n",
              "    </tr>\n",
              "    <tr>\n",
              "      <th>4</th>\n",
              "      <td>ATHILA7</td>\n",
              "      <td>LTR/Gypsy</td>\n",
              "      <td>0.047170</td>\n",
              "      <td>1</td>\n",
              "      <td>intergene</td>\n",
              "      <td>AT1G28470</td>\n",
              "      <td>+</td>\n",
              "      <td>0.028920</td>\n",
              "      <td>2.185482e-11</td>\n",
              "      <td>exon</td>\n",
              "      <td>AT1G28490</td>\n",
              "      <td>+</td>\n",
              "      <td>0.101394</td>\n",
              "      <td>6.366332e-01</td>\n",
              "      <td>0.268921</td>\n",
              "    </tr>\n",
              "  </tbody>\n",
              "</table>\n",
              "</div>\n",
              "      <button class=\"colab-df-convert\" onclick=\"convertToInteractive('df-30038ef5-b393-47a1-a2fe-a685fdad963a')\"\n",
              "              title=\"Convert this dataframe to an interactive table.\"\n",
              "              style=\"display:none;\">\n",
              "        \n",
              "  <svg xmlns=\"http://www.w3.org/2000/svg\" height=\"24px\"viewBox=\"0 0 24 24\"\n",
              "       width=\"24px\">\n",
              "    <path d=\"M0 0h24v24H0V0z\" fill=\"none\"/>\n",
              "    <path d=\"M18.56 5.44l.94 2.06.94-2.06 2.06-.94-2.06-.94-.94-2.06-.94 2.06-2.06.94zm-11 1L8.5 8.5l.94-2.06 2.06-.94-2.06-.94L8.5 2.5l-.94 2.06-2.06.94zm10 10l.94 2.06.94-2.06 2.06-.94-2.06-.94-.94-2.06-.94 2.06-2.06.94z\"/><path d=\"M17.41 7.96l-1.37-1.37c-.4-.4-.92-.59-1.43-.59-.52 0-1.04.2-1.43.59L10.3 9.45l-7.72 7.72c-.78.78-.78 2.05 0 2.83L4 21.41c.39.39.9.59 1.41.59.51 0 1.02-.2 1.41-.59l7.78-7.78 2.81-2.81c.8-.78.8-2.07 0-2.86zM5.41 20L4 18.59l7.72-7.72 1.47 1.35L5.41 20z\"/>\n",
              "  </svg>\n",
              "      </button>\n",
              "      \n",
              "  <style>\n",
              "    .colab-df-container {\n",
              "      display:flex;\n",
              "      flex-wrap:wrap;\n",
              "      gap: 12px;\n",
              "    }\n",
              "\n",
              "    .colab-df-convert {\n",
              "      background-color: #E8F0FE;\n",
              "      border: none;\n",
              "      border-radius: 50%;\n",
              "      cursor: pointer;\n",
              "      display: none;\n",
              "      fill: #1967D2;\n",
              "      height: 32px;\n",
              "      padding: 0 0 0 0;\n",
              "      width: 32px;\n",
              "    }\n",
              "\n",
              "    .colab-df-convert:hover {\n",
              "      background-color: #E2EBFA;\n",
              "      box-shadow: 0px 1px 2px rgba(60, 64, 67, 0.3), 0px 1px 3px 1px rgba(60, 64, 67, 0.15);\n",
              "      fill: #174EA6;\n",
              "    }\n",
              "\n",
              "    [theme=dark] .colab-df-convert {\n",
              "      background-color: #3B4455;\n",
              "      fill: #D2E3FC;\n",
              "    }\n",
              "\n",
              "    [theme=dark] .colab-df-convert:hover {\n",
              "      background-color: #434B5C;\n",
              "      box-shadow: 0px 1px 3px 1px rgba(0, 0, 0, 0.15);\n",
              "      filter: drop-shadow(0px 1px 2px rgba(0, 0, 0, 0.3));\n",
              "      fill: #FFFFFF;\n",
              "    }\n",
              "  </style>\n",
              "\n",
              "      <script>\n",
              "        const buttonEl =\n",
              "          document.querySelector('#df-30038ef5-b393-47a1-a2fe-a685fdad963a button.colab-df-convert');\n",
              "        buttonEl.style.display =\n",
              "          google.colab.kernel.accessAllowed ? 'block' : 'none';\n",
              "\n",
              "        async function convertToInteractive(key) {\n",
              "          const element = document.querySelector('#df-30038ef5-b393-47a1-a2fe-a685fdad963a');\n",
              "          const dataTable =\n",
              "            await google.colab.kernel.invokeFunction('convertToInteractive',\n",
              "                                                     [key], {});\n",
              "          if (!dataTable) return;\n",
              "\n",
              "          const docLinkHtml = 'Like what you see? Visit the ' +\n",
              "            '<a target=\"_blank\" href=https://colab.research.google.com/notebooks/data_table.ipynb>data table notebook</a>'\n",
              "            + ' to learn more about interactive tables.';\n",
              "          element.innerHTML = '';\n",
              "          dataTable['output_type'] = 'display_data';\n",
              "          await google.colab.output.renderOutput(dataTable, element);\n",
              "          const docLink = document.createElement('div');\n",
              "          docLink.innerHTML = docLinkHtml;\n",
              "          element.appendChild(docLink);\n",
              "        }\n",
              "      </script>\n",
              "    </div>\n",
              "  </div>\n",
              "  "
            ]
          },
          "metadata": {},
          "execution_count": 8
        }
      ],
      "source": [
        "df.head()"
      ]
    },
    {
      "cell_type": "markdown",
      "metadata": {
        "id": "YIiibPiSTyDQ"
      },
      "source": [
        "### P-Value\n",
        "We have to correct the acceptation of the P-value wich the Bonferroni Correction.\n",
        "\n",
        "There is 4 possible cases :\n",
        "\n",
        "*   No spreading (1)\n",
        "*   Spreading left (2)\n",
        "*   Spreading right (3)\n",
        "*   Spreading on both sides (4)\n",
        "\n"
      ]
    },
    {
      "cell_type": "code",
      "execution_count": 9,
      "metadata": {
        "colab": {
          "base_uri": "https://localhost:8080/"
        },
        "id": "qUff8834PlZb",
        "outputId": "af12336f-e0b9-40de-bd2d-dc26665665d8"
      },
      "outputs": [
        {
          "output_type": "stream",
          "name": "stdout",
          "text": [
            "nospread    7492\n",
            "spread      1764\n",
            "Name: LEFT.pvalspread, dtype: int64\n",
            "nospread    7545\n",
            "spread      1719\n",
            "Name: RIGHT.pvalspread, dtype: int64\n"
          ]
        }
      ],
      "source": [
        "# Bonferonni correction -> 0.05/nbTE\n",
        "\n",
        "df['LEFT.pvalspread'] = pd.cut(df['LEFT.pvalspread'],\n",
        "                               bins = [-1, 0.05/df.shape[0], 1],\n",
        "                               labels=['spread', 'nospread'])\n",
        "\n",
        "df['RIGHT.pvalspread'] = pd.cut(df['RIGHT.pvalspread'],\n",
        "                               bins = [-1, 0.05/df.shape[0], 1],\n",
        "                               labels=['spread', 'nospread'])\n",
        "\n",
        "print(df['LEFT.pvalspread'].value_counts())\n",
        "print(df['RIGHT.pvalspread'].value_counts())"
      ]
    },
    {
      "cell_type": "code",
      "execution_count": 10,
      "metadata": {
        "colab": {
          "base_uri": "https://localhost:8080/"
        },
        "id": "4C4kM38uRwTR",
        "outputId": "2a58881e-a3dd-404a-d6e0-d000454f84ee"
      },
      "outputs": [
        {
          "output_type": "stream",
          "name": "stdout",
          "text": [
            "4    8397\n",
            "1    6396\n",
            "2    1046\n",
            "3    1007\n",
            "Name: Spreading, dtype: int64\n"
          ]
        }
      ],
      "source": [
        "#Creation of the output column\n",
        "\n",
        "if (ismulticlass):\n",
        "  def f(row):\n",
        "      if row['LEFT.pvalspread'] == 'nospread' and row['RIGHT.pvalspread'] == 'nospread':\n",
        "          val = 1\n",
        "      elif row['LEFT.pvalspread'] == 'spread' and row['RIGHT.pvalspread'] == 'nospread':\n",
        "          val = 2\n",
        "      elif row['LEFT.pvalspread'] == 'nospread' and row['RIGHT.pvalspread'] == 'spread':\n",
        "          val = 3\n",
        "      else:\n",
        "          val = 4\n",
        "      return val\n",
        "else :\n",
        "  def f(row):\n",
        "      if row['LEFT.pvalspread'] == 'nospread' and row['RIGHT.pvalspread'] == 'nospread':\n",
        "          val = 0\n",
        "      else:\n",
        "          val = 1\n",
        "      return val\n",
        "\n",
        "df['Spreading'] = df.apply(f, axis=1)\n",
        "\n",
        "print(df['Spreading'].value_counts())\n"
      ]
    },
    {
      "cell_type": "code",
      "execution_count": 11,
      "metadata": {
        "colab": {
          "base_uri": "https://localhost:8080/",
          "height": 206
        },
        "id": "0-R3TOFhc8qE",
        "outputId": "bbfc8c4a-477b-4247-f9d1-15a8a4ec0f65"
      },
      "outputs": [
        {
          "output_type": "execute_result",
          "data": {
            "text/plain": [
              "      TEfamily TEsuperfamily     Carry  Chr  LEFT.spot LEFT.G1name  \\\n",
              "0    ATCOPIA28     LTR/Copia  0.003704    1  intergene   AT1G28440   \n",
              "1  ATDNAI27T9A      DNA/MuDR  0.071504    1  intergene   AT1G28450   \n",
              "2    ATCOPIA49     LTR/Copia  0.030435    1  intergene   AT1G28470   \n",
              "3        META1     LTR/Copia  0.003247    1  intergene   AT1G28480   \n",
              "4      ATHILA7     LTR/Gypsy  0.047170    1  intergene   AT1G28470   \n",
              "\n",
              "  LEFT.G1orient  LEFT.CGcompo LEFT.pvalspread RIGHT.spot RIGHT.G1name  \\\n",
              "0             +      0.029982        nospread  intergene    AT1G28450   \n",
              "1             +      0.059488          spread  intergene    AT1G28460   \n",
              "2             +      0.057420        nospread  intergene    AT1G28480   \n",
              "3             -      0.029069             NaN       exon    AT1G28490   \n",
              "4             +      0.028920          spread       exon    AT1G28490   \n",
              "\n",
              "  RIGHT.G1orient  RIGHT.CGcompo RIGHT.pvalspread  Centro_dist  Spreading  \n",
              "0              +       0.012852         nospread     0.269930          1  \n",
              "1              +       0.037122           spread     0.269652          4  \n",
              "2              -       0.102082           spread     0.269140          3  \n",
              "3              +       0.101331              NaN     0.268921          4  \n",
              "4              +       0.101394         nospread     0.268921          2  "
            ],
            "text/html": [
              "\n",
              "  <div id=\"df-597bfce3-40ed-4415-a5ad-feb25d858943\">\n",
              "    <div class=\"colab-df-container\">\n",
              "      <div>\n",
              "<style scoped>\n",
              "    .dataframe tbody tr th:only-of-type {\n",
              "        vertical-align: middle;\n",
              "    }\n",
              "\n",
              "    .dataframe tbody tr th {\n",
              "        vertical-align: top;\n",
              "    }\n",
              "\n",
              "    .dataframe thead th {\n",
              "        text-align: right;\n",
              "    }\n",
              "</style>\n",
              "<table border=\"1\" class=\"dataframe\">\n",
              "  <thead>\n",
              "    <tr style=\"text-align: right;\">\n",
              "      <th></th>\n",
              "      <th>TEfamily</th>\n",
              "      <th>TEsuperfamily</th>\n",
              "      <th>Carry</th>\n",
              "      <th>Chr</th>\n",
              "      <th>LEFT.spot</th>\n",
              "      <th>LEFT.G1name</th>\n",
              "      <th>LEFT.G1orient</th>\n",
              "      <th>LEFT.CGcompo</th>\n",
              "      <th>LEFT.pvalspread</th>\n",
              "      <th>RIGHT.spot</th>\n",
              "      <th>RIGHT.G1name</th>\n",
              "      <th>RIGHT.G1orient</th>\n",
              "      <th>RIGHT.CGcompo</th>\n",
              "      <th>RIGHT.pvalspread</th>\n",
              "      <th>Centro_dist</th>\n",
              "      <th>Spreading</th>\n",
              "    </tr>\n",
              "  </thead>\n",
              "  <tbody>\n",
              "    <tr>\n",
              "      <th>0</th>\n",
              "      <td>ATCOPIA28</td>\n",
              "      <td>LTR/Copia</td>\n",
              "      <td>0.003704</td>\n",
              "      <td>1</td>\n",
              "      <td>intergene</td>\n",
              "      <td>AT1G28440</td>\n",
              "      <td>+</td>\n",
              "      <td>0.029982</td>\n",
              "      <td>nospread</td>\n",
              "      <td>intergene</td>\n",
              "      <td>AT1G28450</td>\n",
              "      <td>+</td>\n",
              "      <td>0.012852</td>\n",
              "      <td>nospread</td>\n",
              "      <td>0.269930</td>\n",
              "      <td>1</td>\n",
              "    </tr>\n",
              "    <tr>\n",
              "      <th>1</th>\n",
              "      <td>ATDNAI27T9A</td>\n",
              "      <td>DNA/MuDR</td>\n",
              "      <td>0.071504</td>\n",
              "      <td>1</td>\n",
              "      <td>intergene</td>\n",
              "      <td>AT1G28450</td>\n",
              "      <td>+</td>\n",
              "      <td>0.059488</td>\n",
              "      <td>spread</td>\n",
              "      <td>intergene</td>\n",
              "      <td>AT1G28460</td>\n",
              "      <td>+</td>\n",
              "      <td>0.037122</td>\n",
              "      <td>spread</td>\n",
              "      <td>0.269652</td>\n",
              "      <td>4</td>\n",
              "    </tr>\n",
              "    <tr>\n",
              "      <th>2</th>\n",
              "      <td>ATCOPIA49</td>\n",
              "      <td>LTR/Copia</td>\n",
              "      <td>0.030435</td>\n",
              "      <td>1</td>\n",
              "      <td>intergene</td>\n",
              "      <td>AT1G28470</td>\n",
              "      <td>+</td>\n",
              "      <td>0.057420</td>\n",
              "      <td>nospread</td>\n",
              "      <td>intergene</td>\n",
              "      <td>AT1G28480</td>\n",
              "      <td>-</td>\n",
              "      <td>0.102082</td>\n",
              "      <td>spread</td>\n",
              "      <td>0.269140</td>\n",
              "      <td>3</td>\n",
              "    </tr>\n",
              "    <tr>\n",
              "      <th>3</th>\n",
              "      <td>META1</td>\n",
              "      <td>LTR/Copia</td>\n",
              "      <td>0.003247</td>\n",
              "      <td>1</td>\n",
              "      <td>intergene</td>\n",
              "      <td>AT1G28480</td>\n",
              "      <td>-</td>\n",
              "      <td>0.029069</td>\n",
              "      <td>NaN</td>\n",
              "      <td>exon</td>\n",
              "      <td>AT1G28490</td>\n",
              "      <td>+</td>\n",
              "      <td>0.101331</td>\n",
              "      <td>NaN</td>\n",
              "      <td>0.268921</td>\n",
              "      <td>4</td>\n",
              "    </tr>\n",
              "    <tr>\n",
              "      <th>4</th>\n",
              "      <td>ATHILA7</td>\n",
              "      <td>LTR/Gypsy</td>\n",
              "      <td>0.047170</td>\n",
              "      <td>1</td>\n",
              "      <td>intergene</td>\n",
              "      <td>AT1G28470</td>\n",
              "      <td>+</td>\n",
              "      <td>0.028920</td>\n",
              "      <td>spread</td>\n",
              "      <td>exon</td>\n",
              "      <td>AT1G28490</td>\n",
              "      <td>+</td>\n",
              "      <td>0.101394</td>\n",
              "      <td>nospread</td>\n",
              "      <td>0.268921</td>\n",
              "      <td>2</td>\n",
              "    </tr>\n",
              "  </tbody>\n",
              "</table>\n",
              "</div>\n",
              "      <button class=\"colab-df-convert\" onclick=\"convertToInteractive('df-597bfce3-40ed-4415-a5ad-feb25d858943')\"\n",
              "              title=\"Convert this dataframe to an interactive table.\"\n",
              "              style=\"display:none;\">\n",
              "        \n",
              "  <svg xmlns=\"http://www.w3.org/2000/svg\" height=\"24px\"viewBox=\"0 0 24 24\"\n",
              "       width=\"24px\">\n",
              "    <path d=\"M0 0h24v24H0V0z\" fill=\"none\"/>\n",
              "    <path d=\"M18.56 5.44l.94 2.06.94-2.06 2.06-.94-2.06-.94-.94-2.06-.94 2.06-2.06.94zm-11 1L8.5 8.5l.94-2.06 2.06-.94-2.06-.94L8.5 2.5l-.94 2.06-2.06.94zm10 10l.94 2.06.94-2.06 2.06-.94-2.06-.94-.94-2.06-.94 2.06-2.06.94z\"/><path d=\"M17.41 7.96l-1.37-1.37c-.4-.4-.92-.59-1.43-.59-.52 0-1.04.2-1.43.59L10.3 9.45l-7.72 7.72c-.78.78-.78 2.05 0 2.83L4 21.41c.39.39.9.59 1.41.59.51 0 1.02-.2 1.41-.59l7.78-7.78 2.81-2.81c.8-.78.8-2.07 0-2.86zM5.41 20L4 18.59l7.72-7.72 1.47 1.35L5.41 20z\"/>\n",
              "  </svg>\n",
              "      </button>\n",
              "      \n",
              "  <style>\n",
              "    .colab-df-container {\n",
              "      display:flex;\n",
              "      flex-wrap:wrap;\n",
              "      gap: 12px;\n",
              "    }\n",
              "\n",
              "    .colab-df-convert {\n",
              "      background-color: #E8F0FE;\n",
              "      border: none;\n",
              "      border-radius: 50%;\n",
              "      cursor: pointer;\n",
              "      display: none;\n",
              "      fill: #1967D2;\n",
              "      height: 32px;\n",
              "      padding: 0 0 0 0;\n",
              "      width: 32px;\n",
              "    }\n",
              "\n",
              "    .colab-df-convert:hover {\n",
              "      background-color: #E2EBFA;\n",
              "      box-shadow: 0px 1px 2px rgba(60, 64, 67, 0.3), 0px 1px 3px 1px rgba(60, 64, 67, 0.15);\n",
              "      fill: #174EA6;\n",
              "    }\n",
              "\n",
              "    [theme=dark] .colab-df-convert {\n",
              "      background-color: #3B4455;\n",
              "      fill: #D2E3FC;\n",
              "    }\n",
              "\n",
              "    [theme=dark] .colab-df-convert:hover {\n",
              "      background-color: #434B5C;\n",
              "      box-shadow: 0px 1px 3px 1px rgba(0, 0, 0, 0.15);\n",
              "      filter: drop-shadow(0px 1px 2px rgba(0, 0, 0, 0.3));\n",
              "      fill: #FFFFFF;\n",
              "    }\n",
              "  </style>\n",
              "\n",
              "      <script>\n",
              "        const buttonEl =\n",
              "          document.querySelector('#df-597bfce3-40ed-4415-a5ad-feb25d858943 button.colab-df-convert');\n",
              "        buttonEl.style.display =\n",
              "          google.colab.kernel.accessAllowed ? 'block' : 'none';\n",
              "\n",
              "        async function convertToInteractive(key) {\n",
              "          const element = document.querySelector('#df-597bfce3-40ed-4415-a5ad-feb25d858943');\n",
              "          const dataTable =\n",
              "            await google.colab.kernel.invokeFunction('convertToInteractive',\n",
              "                                                     [key], {});\n",
              "          if (!dataTable) return;\n",
              "\n",
              "          const docLinkHtml = 'Like what you see? Visit the ' +\n",
              "            '<a target=\"_blank\" href=https://colab.research.google.com/notebooks/data_table.ipynb>data table notebook</a>'\n",
              "            + ' to learn more about interactive tables.';\n",
              "          element.innerHTML = '';\n",
              "          dataTable['output_type'] = 'display_data';\n",
              "          await google.colab.output.renderOutput(dataTable, element);\n",
              "          const docLink = document.createElement('div');\n",
              "          docLink.innerHTML = docLinkHtml;\n",
              "          element.appendChild(docLink);\n",
              "        }\n",
              "      </script>\n",
              "    </div>\n",
              "  </div>\n",
              "  "
            ]
          },
          "metadata": {},
          "execution_count": 11
        }
      ],
      "source": [
        "df.head()"
      ]
    },
    {
      "cell_type": "code",
      "execution_count": 12,
      "metadata": {
        "id": "Cbus-a6vdwF6"
      },
      "outputs": [],
      "source": [
        "df = df.drop(columns=['LEFT.pvalspread', 'RIGHT.pvalspread'])"
      ]
    },
    {
      "cell_type": "code",
      "execution_count": 13,
      "metadata": {
        "id": "Jd_Ost4T1ogU"
      },
      "outputs": [],
      "source": [
        "#df = df.drop(columns=['TEfamily'])"
      ]
    },
    {
      "cell_type": "markdown",
      "metadata": {
        "id": "N0lRtng3eaUs"
      },
      "source": [
        "## Preprocessing\n"
      ]
    },
    {
      "cell_type": "markdown",
      "source": [
        "### Variable conversions to numerical values"
      ],
      "metadata": {
        "id": "BkxgtzhZ5Zjt"
      }
    },
    {
      "cell_type": "code",
      "execution_count": 14,
      "metadata": {
        "id": "LhQMsK4RepA3"
      },
      "outputs": [],
      "source": [
        "from sklearn import preprocessing"
      ]
    },
    {
      "cell_type": "code",
      "source": [
        "df = pd.get_dummies(df, columns=['Chr'])"
      ],
      "metadata": {
        "id": "1sWLO-p1Gpea"
      },
      "execution_count": 15,
      "outputs": []
    },
    {
      "cell_type": "code",
      "execution_count": 16,
      "metadata": {
        "id": "NiUg9RMBeqwg"
      },
      "outputs": [],
      "source": [
        "label_encoder = preprocessing.LabelEncoder()\n",
        "\n",
        "for col in df.columns:\n",
        "  if (col not in [\"Carry\", \"LEFT.CGcompo\", \"RIGHT.CGcompo\", \"Centro_dist\"]):\n",
        "    df[col] = label_encoder.fit_transform(df[col])"
      ]
    },
    {
      "cell_type": "markdown",
      "metadata": {
        "id": "KHIWY4ZHeuL4"
      },
      "source": [
        "Let's observe the data once again : "
      ]
    },
    {
      "cell_type": "code",
      "execution_count": 17,
      "metadata": {
        "colab": {
          "base_uri": "https://localhost:8080/",
          "height": 206
        },
        "id": "GSEPNdOLetDp",
        "outputId": "d686bd8b-554b-44d5-ee55-5b42affdfd48"
      },
      "outputs": [
        {
          "output_type": "execute_result",
          "data": {
            "text/plain": [
              "   TEfamily  TEsuperfamily     Carry  LEFT.spot  LEFT.G1name  LEFT.G1orient  \\\n",
              "0        26              7  0.003704          1          762              0   \n",
              "1       104              4  0.071504          1          763              0   \n",
              "2        47              7  0.030435          1          764              0   \n",
              "3       198              7  0.003247          1          765              1   \n",
              "4       153              8  0.047170          1          764              0   \n",
              "\n",
              "   LEFT.CGcompo  RIGHT.spot  RIGHT.G1name  RIGHT.G1orient  RIGHT.CGcompo  \\\n",
              "0      0.029982           1           759               0       0.012852   \n",
              "1      0.059488           1           760               0       0.037122   \n",
              "2      0.057420           1           761               1       0.102082   \n",
              "3      0.029069           0           762               0       0.101331   \n",
              "4      0.028920           0           762               0       0.101394   \n",
              "\n",
              "   Centro_dist  Spreading  Chr_1  Chr_2  Chr_3  Chr_4  Chr_5  \n",
              "0     0.269930          0      1      0      0      0      0  \n",
              "1     0.269652          3      1      0      0      0      0  \n",
              "2     0.269140          2      1      0      0      0      0  \n",
              "3     0.268921          3      1      0      0      0      0  \n",
              "4     0.268921          1      1      0      0      0      0  "
            ],
            "text/html": [
              "\n",
              "  <div id=\"df-5470b94e-2e0d-4a25-9ec6-39e7f0a31d52\">\n",
              "    <div class=\"colab-df-container\">\n",
              "      <div>\n",
              "<style scoped>\n",
              "    .dataframe tbody tr th:only-of-type {\n",
              "        vertical-align: middle;\n",
              "    }\n",
              "\n",
              "    .dataframe tbody tr th {\n",
              "        vertical-align: top;\n",
              "    }\n",
              "\n",
              "    .dataframe thead th {\n",
              "        text-align: right;\n",
              "    }\n",
              "</style>\n",
              "<table border=\"1\" class=\"dataframe\">\n",
              "  <thead>\n",
              "    <tr style=\"text-align: right;\">\n",
              "      <th></th>\n",
              "      <th>TEfamily</th>\n",
              "      <th>TEsuperfamily</th>\n",
              "      <th>Carry</th>\n",
              "      <th>LEFT.spot</th>\n",
              "      <th>LEFT.G1name</th>\n",
              "      <th>LEFT.G1orient</th>\n",
              "      <th>LEFT.CGcompo</th>\n",
              "      <th>RIGHT.spot</th>\n",
              "      <th>RIGHT.G1name</th>\n",
              "      <th>RIGHT.G1orient</th>\n",
              "      <th>RIGHT.CGcompo</th>\n",
              "      <th>Centro_dist</th>\n",
              "      <th>Spreading</th>\n",
              "      <th>Chr_1</th>\n",
              "      <th>Chr_2</th>\n",
              "      <th>Chr_3</th>\n",
              "      <th>Chr_4</th>\n",
              "      <th>Chr_5</th>\n",
              "    </tr>\n",
              "  </thead>\n",
              "  <tbody>\n",
              "    <tr>\n",
              "      <th>0</th>\n",
              "      <td>26</td>\n",
              "      <td>7</td>\n",
              "      <td>0.003704</td>\n",
              "      <td>1</td>\n",
              "      <td>762</td>\n",
              "      <td>0</td>\n",
              "      <td>0.029982</td>\n",
              "      <td>1</td>\n",
              "      <td>759</td>\n",
              "      <td>0</td>\n",
              "      <td>0.012852</td>\n",
              "      <td>0.269930</td>\n",
              "      <td>0</td>\n",
              "      <td>1</td>\n",
              "      <td>0</td>\n",
              "      <td>0</td>\n",
              "      <td>0</td>\n",
              "      <td>0</td>\n",
              "    </tr>\n",
              "    <tr>\n",
              "      <th>1</th>\n",
              "      <td>104</td>\n",
              "      <td>4</td>\n",
              "      <td>0.071504</td>\n",
              "      <td>1</td>\n",
              "      <td>763</td>\n",
              "      <td>0</td>\n",
              "      <td>0.059488</td>\n",
              "      <td>1</td>\n",
              "      <td>760</td>\n",
              "      <td>0</td>\n",
              "      <td>0.037122</td>\n",
              "      <td>0.269652</td>\n",
              "      <td>3</td>\n",
              "      <td>1</td>\n",
              "      <td>0</td>\n",
              "      <td>0</td>\n",
              "      <td>0</td>\n",
              "      <td>0</td>\n",
              "    </tr>\n",
              "    <tr>\n",
              "      <th>2</th>\n",
              "      <td>47</td>\n",
              "      <td>7</td>\n",
              "      <td>0.030435</td>\n",
              "      <td>1</td>\n",
              "      <td>764</td>\n",
              "      <td>0</td>\n",
              "      <td>0.057420</td>\n",
              "      <td>1</td>\n",
              "      <td>761</td>\n",
              "      <td>1</td>\n",
              "      <td>0.102082</td>\n",
              "      <td>0.269140</td>\n",
              "      <td>2</td>\n",
              "      <td>1</td>\n",
              "      <td>0</td>\n",
              "      <td>0</td>\n",
              "      <td>0</td>\n",
              "      <td>0</td>\n",
              "    </tr>\n",
              "    <tr>\n",
              "      <th>3</th>\n",
              "      <td>198</td>\n",
              "      <td>7</td>\n",
              "      <td>0.003247</td>\n",
              "      <td>1</td>\n",
              "      <td>765</td>\n",
              "      <td>1</td>\n",
              "      <td>0.029069</td>\n",
              "      <td>0</td>\n",
              "      <td>762</td>\n",
              "      <td>0</td>\n",
              "      <td>0.101331</td>\n",
              "      <td>0.268921</td>\n",
              "      <td>3</td>\n",
              "      <td>1</td>\n",
              "      <td>0</td>\n",
              "      <td>0</td>\n",
              "      <td>0</td>\n",
              "      <td>0</td>\n",
              "    </tr>\n",
              "    <tr>\n",
              "      <th>4</th>\n",
              "      <td>153</td>\n",
              "      <td>8</td>\n",
              "      <td>0.047170</td>\n",
              "      <td>1</td>\n",
              "      <td>764</td>\n",
              "      <td>0</td>\n",
              "      <td>0.028920</td>\n",
              "      <td>0</td>\n",
              "      <td>762</td>\n",
              "      <td>0</td>\n",
              "      <td>0.101394</td>\n",
              "      <td>0.268921</td>\n",
              "      <td>1</td>\n",
              "      <td>1</td>\n",
              "      <td>0</td>\n",
              "      <td>0</td>\n",
              "      <td>0</td>\n",
              "      <td>0</td>\n",
              "    </tr>\n",
              "  </tbody>\n",
              "</table>\n",
              "</div>\n",
              "      <button class=\"colab-df-convert\" onclick=\"convertToInteractive('df-5470b94e-2e0d-4a25-9ec6-39e7f0a31d52')\"\n",
              "              title=\"Convert this dataframe to an interactive table.\"\n",
              "              style=\"display:none;\">\n",
              "        \n",
              "  <svg xmlns=\"http://www.w3.org/2000/svg\" height=\"24px\"viewBox=\"0 0 24 24\"\n",
              "       width=\"24px\">\n",
              "    <path d=\"M0 0h24v24H0V0z\" fill=\"none\"/>\n",
              "    <path d=\"M18.56 5.44l.94 2.06.94-2.06 2.06-.94-2.06-.94-.94-2.06-.94 2.06-2.06.94zm-11 1L8.5 8.5l.94-2.06 2.06-.94-2.06-.94L8.5 2.5l-.94 2.06-2.06.94zm10 10l.94 2.06.94-2.06 2.06-.94-2.06-.94-.94-2.06-.94 2.06-2.06.94z\"/><path d=\"M17.41 7.96l-1.37-1.37c-.4-.4-.92-.59-1.43-.59-.52 0-1.04.2-1.43.59L10.3 9.45l-7.72 7.72c-.78.78-.78 2.05 0 2.83L4 21.41c.39.39.9.59 1.41.59.51 0 1.02-.2 1.41-.59l7.78-7.78 2.81-2.81c.8-.78.8-2.07 0-2.86zM5.41 20L4 18.59l7.72-7.72 1.47 1.35L5.41 20z\"/>\n",
              "  </svg>\n",
              "      </button>\n",
              "      \n",
              "  <style>\n",
              "    .colab-df-container {\n",
              "      display:flex;\n",
              "      flex-wrap:wrap;\n",
              "      gap: 12px;\n",
              "    }\n",
              "\n",
              "    .colab-df-convert {\n",
              "      background-color: #E8F0FE;\n",
              "      border: none;\n",
              "      border-radius: 50%;\n",
              "      cursor: pointer;\n",
              "      display: none;\n",
              "      fill: #1967D2;\n",
              "      height: 32px;\n",
              "      padding: 0 0 0 0;\n",
              "      width: 32px;\n",
              "    }\n",
              "\n",
              "    .colab-df-convert:hover {\n",
              "      background-color: #E2EBFA;\n",
              "      box-shadow: 0px 1px 2px rgba(60, 64, 67, 0.3), 0px 1px 3px 1px rgba(60, 64, 67, 0.15);\n",
              "      fill: #174EA6;\n",
              "    }\n",
              "\n",
              "    [theme=dark] .colab-df-convert {\n",
              "      background-color: #3B4455;\n",
              "      fill: #D2E3FC;\n",
              "    }\n",
              "\n",
              "    [theme=dark] .colab-df-convert:hover {\n",
              "      background-color: #434B5C;\n",
              "      box-shadow: 0px 1px 3px 1px rgba(0, 0, 0, 0.15);\n",
              "      filter: drop-shadow(0px 1px 2px rgba(0, 0, 0, 0.3));\n",
              "      fill: #FFFFFF;\n",
              "    }\n",
              "  </style>\n",
              "\n",
              "      <script>\n",
              "        const buttonEl =\n",
              "          document.querySelector('#df-5470b94e-2e0d-4a25-9ec6-39e7f0a31d52 button.colab-df-convert');\n",
              "        buttonEl.style.display =\n",
              "          google.colab.kernel.accessAllowed ? 'block' : 'none';\n",
              "\n",
              "        async function convertToInteractive(key) {\n",
              "          const element = document.querySelector('#df-5470b94e-2e0d-4a25-9ec6-39e7f0a31d52');\n",
              "          const dataTable =\n",
              "            await google.colab.kernel.invokeFunction('convertToInteractive',\n",
              "                                                     [key], {});\n",
              "          if (!dataTable) return;\n",
              "\n",
              "          const docLinkHtml = 'Like what you see? Visit the ' +\n",
              "            '<a target=\"_blank\" href=https://colab.research.google.com/notebooks/data_table.ipynb>data table notebook</a>'\n",
              "            + ' to learn more about interactive tables.';\n",
              "          element.innerHTML = '';\n",
              "          dataTable['output_type'] = 'display_data';\n",
              "          await google.colab.output.renderOutput(dataTable, element);\n",
              "          const docLink = document.createElement('div');\n",
              "          docLink.innerHTML = docLinkHtml;\n",
              "          element.appendChild(docLink);\n",
              "        }\n",
              "      </script>\n",
              "    </div>\n",
              "  </div>\n",
              "  "
            ]
          },
          "metadata": {},
          "execution_count": 17
        }
      ],
      "source": [
        "df.head()"
      ]
    },
    {
      "cell_type": "markdown",
      "metadata": {
        "id": "IR_zKvTDe8OS"
      },
      "source": [
        "### Data Matrix creation X and y"
      ]
    },
    {
      "cell_type": "code",
      "execution_count": 18,
      "metadata": {
        "id": "VEoCe3r3fE1u"
      },
      "outputs": [],
      "source": [
        "X = np.array(df.drop(columns=['Spreading']))"
      ]
    },
    {
      "cell_type": "code",
      "execution_count": 19,
      "metadata": {
        "id": "IgLQuG6UfJd6"
      },
      "outputs": [],
      "source": [
        "y = np.array(df['Spreading'])"
      ]
    },
    {
      "cell_type": "code",
      "execution_count": 20,
      "metadata": {
        "colab": {
          "base_uri": "https://localhost:8080/"
        },
        "id": "YbsQQ20YfPMB",
        "outputId": "3d34371e-df38-4ba0-cfff-f7091dd994a2"
      },
      "outputs": [
        {
          "output_type": "stream",
          "name": "stdout",
          "text": [
            "(16846, 17) (16846,)\n"
          ]
        }
      ],
      "source": [
        "print(X.shape, y.shape)"
      ]
    },
    {
      "cell_type": "code",
      "execution_count": 21,
      "metadata": {
        "colab": {
          "base_uri": "https://localhost:8080/"
        },
        "id": "U16o6qf0DHBa",
        "outputId": "10063238-42bf-48d9-eb15-cbb857d4bd74"
      },
      "outputs": [
        {
          "output_type": "stream",
          "name": "stdout",
          "text": [
            "[[2.60000e+01 7.00000e+00 3.70370e-03 1.00000e+00 7.62000e+02 0.00000e+00\n",
            "  2.99815e-02 1.00000e+00 7.59000e+02 0.00000e+00 1.28519e-02 2.69930e-01\n",
            "  1.00000e+00 0.00000e+00 0.00000e+00 0.00000e+00 0.00000e+00]\n",
            " [1.04000e+02 4.00000e+00 7.15037e-02 1.00000e+00 7.63000e+02 0.00000e+00\n",
            "  5.94877e-02 1.00000e+00 7.60000e+02 0.00000e+00 3.71218e-02 2.69652e-01\n",
            "  1.00000e+00 0.00000e+00 0.00000e+00 0.00000e+00 0.00000e+00]\n",
            " [4.70000e+01 7.00000e+00 3.04348e-02 1.00000e+00 7.64000e+02 0.00000e+00\n",
            "  5.74203e-02 1.00000e+00 7.61000e+02 1.00000e+00 1.02082e-01 2.69140e-01\n",
            "  1.00000e+00 0.00000e+00 0.00000e+00 0.00000e+00 0.00000e+00]\n",
            " [1.98000e+02 7.00000e+00 3.24675e-03 1.00000e+00 7.65000e+02 1.00000e+00\n",
            "  2.90693e-02 0.00000e+00 7.62000e+02 0.00000e+00 1.01331e-01 2.68921e-01\n",
            "  1.00000e+00 0.00000e+00 0.00000e+00 0.00000e+00 0.00000e+00]\n",
            " [1.53000e+02 8.00000e+00 4.71698e-02 1.00000e+00 7.64000e+02 0.00000e+00\n",
            "  2.89203e-02 0.00000e+00 7.62000e+02 0.00000e+00 1.01394e-01 2.68921e-01\n",
            "  1.00000e+00 0.00000e+00 0.00000e+00 0.00000e+00 0.00000e+00]\n",
            " [1.51000e+02 8.00000e+00 9.77199e-03 1.00000e+00 7.64000e+02 0.00000e+00\n",
            "  2.91748e-02 0.00000e+00 7.63000e+02 0.00000e+00 1.01162e-01 2.68921e-01\n",
            "  1.00000e+00 0.00000e+00 0.00000e+00 0.00000e+00 0.00000e+00]\n",
            " [1.51000e+02 8.00000e+00 9.77199e-03 1.00000e+00 7.65000e+02 1.00000e+00\n",
            "  2.91748e-02 0.00000e+00 7.63000e+02 0.00000e+00 1.01162e-01 2.68921e-01\n",
            "  1.00000e+00 0.00000e+00 0.00000e+00 0.00000e+00 0.00000e+00]\n",
            " [1.69000e+02 5.00000e+00 1.57978e-03 1.00000e+00 7.66000e+02 1.00000e+00\n",
            "  8.47183e-02 1.00000e+00 7.64000e+02 1.00000e+00 4.31806e-02 2.66648e-01\n",
            "  1.00000e+00 0.00000e+00 0.00000e+00 0.00000e+00 0.00000e+00]\n",
            " [1.95000e+02 7.00000e+00 3.43053e-03 1.00000e+00 7.67000e+02 1.00000e+00\n",
            "  6.38431e-02 0.00000e+00 7.65000e+02 1.00000e+00 2.51370e-02 2.66164e-01\n",
            "  1.00000e+00 0.00000e+00 0.00000e+00 0.00000e+00 0.00000e+00]\n",
            " [3.60000e+01 7.00000e+00 5.79710e-03 0.00000e+00 7.68000e+02 1.00000e+00\n",
            "  3.78157e-02 1.00000e+00 7.66000e+02 1.00000e+00 1.81328e-02 2.65986e-01\n",
            "  1.00000e+00 0.00000e+00 0.00000e+00 0.00000e+00 0.00000e+00]]\n"
          ]
        }
      ],
      "source": [
        "print(X[:10,:])"
      ]
    },
    {
      "cell_type": "markdown",
      "metadata": {
        "id": "iaBgFQhufVTX"
      },
      "source": [
        "## Selection of training and test sets\n",
        "\n",
        "We are going to cut our dataset between a training and a validation set. We will cut the training set in 10 folds for cross-validation."
      ]
    },
    {
      "cell_type": "code",
      "execution_count": 22,
      "metadata": {
        "id": "8HGRTQIVf148"
      },
      "outputs": [],
      "source": [
        "from sklearn import model_selection"
      ]
    },
    {
      "cell_type": "markdown",
      "metadata": {
        "id": "ojq_YplLf3x8"
      },
      "source": [
        "### Training and test sets"
      ]
    },
    {
      "cell_type": "code",
      "execution_count": 23,
      "metadata": {
        "id": "mBSiDvbCf6n4"
      },
      "outputs": [],
      "source": [
        "X_train, X_test, y_train, y_test = \\\n",
        "    model_selection.train_test_split(X, y,\n",
        "                                    test_size=0.3, # 30% des données dans le jeu de test\n",
        "                                    random_state=1 # graine du générateur aléatoire\n",
        "                                    )"
      ]
    },
    {
      "cell_type": "markdown",
      "metadata": {
        "id": "7SVKcpi3gGCM"
      },
      "source": [
        "## Cross-validation"
      ]
    },
    {
      "cell_type": "code",
      "execution_count": 24,
      "metadata": {
        "id": "V_Vm3-HBgKeF"
      },
      "outputs": [],
      "source": [
        "n_folds = 10\n",
        "\n",
        "# Créer un objet KFold qui permettra de cross-valider en n_folds folds\n",
        "kf = model_selection.KFold(n_splits=n_folds,  \n",
        "                           shuffle=True # mélanger les échantillons avant de créer les folds\n",
        "                          )\n",
        "\n",
        "# Utiliser kf pour partager le jeu d'entraînement en n_folds folds. \n",
        "# kf.split retourne un iterateur (consommé après une boucle).\n",
        "# Pour pouvoir se servir plusieurs fois des mêmes folds, nous transformons cet itérateur en liste d'indices :\n",
        "kf_indices = list(kf.split(X_train))"
      ]
    },
    {
      "cell_type": "markdown",
      "metadata": {
        "id": "QfGY8AWVXzb6"
      },
      "source": [
        "# Random forest"
      ]
    },
    {
      "cell_type": "code",
      "execution_count": 25,
      "metadata": {
        "id": "f1HEWaCRYIMQ"
      },
      "outputs": [],
      "source": [
        "from sklearn import ensemble"
      ]
    },
    {
      "cell_type": "markdown",
      "metadata": {
        "id": "mb6HYHiZYVFx"
      },
      "source": [
        "### Cross validation on the max depth and the number of tree"
      ]
    },
    {
      "cell_type": "code",
      "execution_count": 26,
      "metadata": {
        "id": "tBjB3DzXYO6H"
      },
      "outputs": [],
      "source": [
        "d_values = np.array([3, 4, 10, 20])\n",
        "n_values = np.array([10, 20, 50, 100, 150])#, 100, 200, 500])"
      ]
    },
    {
      "cell_type": "code",
      "execution_count": 27,
      "metadata": {
        "id": "K1MYywbjYnQh"
      },
      "outputs": [],
      "source": [
        "# Instanciation d'un objet GridSearchCV\n",
        "grid_rf = model_selection.GridSearchCV(ensemble.RandomForestClassifier(), # prédicteur à évaluer\n",
        "                                       {'max_depth': d_values, 'n_estimators': n_values}, # dictionnaire de valeurs d'hyperparamètres\n",
        "                                       cv=kf_indices, # validation croisée à utiliser\n",
        "                                       scoring='f1_weighted' # métrique d'évaluation de la performance\n",
        "                                       )"
      ]
    },
    {
      "cell_type": "code",
      "execution_count": 28,
      "metadata": {
        "colab": {
          "base_uri": "https://localhost:8080/"
        },
        "id": "Oo_K7amjYr9b",
        "outputId": "8766ac07-bdc8-4f05-e034-000addada679"
      },
      "outputs": [
        {
          "output_type": "stream",
          "name": "stdout",
          "text": [
            "CPU times: user 2min 44s, sys: 608 ms, total: 2min 45s\n",
            "Wall time: 2min 52s\n"
          ]
        },
        {
          "output_type": "execute_result",
          "data": {
            "text/plain": [
              "GridSearchCV(cv=[(array([    0,     1,     2, ..., 11788, 11789, 11790]),\n",
              "                  array([    3,    10,    14, ..., 11765, 11777, 11791])),\n",
              "                 (array([    0,     1,     2, ..., 11788, 11790, 11791]),\n",
              "                  array([   15,    21,    29, ..., 11760, 11766, 11789])),\n",
              "                 (array([    0,     2,     3, ..., 11789, 11790, 11791]),\n",
              "                  array([    1,    12,    17, ..., 11738, 11741, 11772])),\n",
              "                 (array([    0,     1,     2, ..., 11789, 11790, 11791]),\n",
              "                  array([    9,    26,    27, ..., 11756, 11762, 11781])),\n",
              "                 (array([    0,     1,     2, ..., 11...\n",
              "                 (array([    0,     1,     2, ..., 11789, 11790, 11791]),\n",
              "                  array([    8,    25,    32, ..., 11783, 11784, 11786])),\n",
              "                 (array([    0,     1,     3, ..., 11789, 11790, 11791]),\n",
              "                  array([    2,     4,     5, ..., 11757, 11764, 11787])),\n",
              "                 (array([    0,     1,     2, ..., 11789, 11790, 11791]),\n",
              "                  array([    7,    31,    40, ..., 11749, 11759, 11782]))],\n",
              "             estimator=RandomForestClassifier(),\n",
              "             param_grid={'max_depth': array([ 3,  4, 10, 20]),\n",
              "                         'n_estimators': array([ 10,  20,  50, 100, 150])},\n",
              "             scoring='f1_weighted')"
            ]
          },
          "metadata": {},
          "execution_count": 28
        }
      ],
      "source": [
        "%%time\n",
        "\n",
        "# Utilisation de cet objet sur les données d'entraînement\n",
        "grid_rf.fit(X_train, y_train)"
      ]
    },
    {
      "cell_type": "code",
      "execution_count": 29,
      "metadata": {
        "colab": {
          "base_uri": "https://localhost:8080/"
        },
        "id": "mLn8gCYaY_XV",
        "outputId": "a3a9a5a9-84d6-4730-c40c-e478981d868a"
      },
      "outputs": [
        {
          "output_type": "stream",
          "name": "stdout",
          "text": [
            "{'max_depth': 20, 'n_estimators': 150}\n"
          ]
        }
      ],
      "source": [
        "print(grid_rf.best_params_)"
      ]
    },
    {
      "cell_type": "code",
      "execution_count": 30,
      "metadata": {
        "id": "Fnq3qxZlY_Q7"
      },
      "outputs": [],
      "source": [
        "# Reorganize the tables in 2D\n",
        "mean_test_score_array = np.reshape(grid_rf.cv_results_['mean_test_score'], (len(d_values), len(n_values)))\n",
        "std_test_score_array = np.reshape(grid_rf.cv_results_['std_test_score'], (len(d_values), len(n_values)))"
      ]
    },
    {
      "cell_type": "code",
      "execution_count": 31,
      "metadata": {
        "colab": {
          "base_uri": "https://localhost:8080/",
          "height": 306
        },
        "id": "6dhSNpq1Zbhc",
        "outputId": "13369980-fa7c-45e7-8600-c785ef3134ca"
      },
      "outputs": [
        {
          "output_type": "display_data",
          "data": {
            "text/plain": [
              "<Figure size 432x288 with 1 Axes>"
            ],
            "image/png": "[encoded data removed]"
          },
          "metadata": {
            "needs_background": "light"
          }
        }
      ],
      "source": [
        "for (idx, d) in enumerate(d_values):\n",
        "    mean_test_score = mean_test_score_array[idx, :]\n",
        "    stde_test_score = std_test_score_array[idx, :] / np.sqrt(n_folds) # standard error\n",
        "\n",
        "    p = plt.plot(n_values, mean_test_score, label=\"Profondeur max = %d\" % d)\n",
        "    plt.plot(n_values, (mean_test_score + stde_test_score), '--', color=p[0].get_color())\n",
        "    plt.plot(n_values, (mean_test_score - stde_test_score), '--', color=p[0].get_color())\n",
        "    plt.fill_between(n_values, (mean_test_score + stde_test_score), \n",
        "                     (mean_test_score - stde_test_score), alpha=0.2)\n",
        "    \n",
        "    # Afficher les meilleurs hyperparamètres\n",
        "    if d == grid_rf.best_params_['max_depth']:\n",
        "        best_ntree_index = np.where(n_values == grid_rf.best_params_['n_estimators'])[0][0]\n",
        "        plt.scatter(n_values[best_ntree_index], mean_test_score[best_ntree_index], \n",
        "                   marker='*', s=200, color='red')\n",
        "        \n",
        "plt.legend(loc=(1.1, 0))\n",
        "plt.xlabel(\"Nombre d'arbres\")\n",
        "plt.ylabel('F1')\n",
        "plt.title(\"Performance (en validation croisée) le long de la grille\")\n",
        "plt.xscale('log') # utiliser une échelle logarithmique en abcisse"
      ]
    },
    {
      "cell_type": "markdown",
      "metadata": {
        "id": "KCqRfWYRZnIE"
      },
      "source": [
        "### Optimal random forest"
      ]
    },
    {
      "cell_type": "code",
      "execution_count": 32,
      "metadata": {
        "colab": {
          "base_uri": "https://localhost:8080/"
        },
        "id": "y-d_XRIwZ0j6",
        "outputId": "9ebcdbb4-ef25-46a1-b1d1-0854214f2d20"
      },
      "outputs": [
        {
          "output_type": "stream",
          "name": "stdout",
          "text": [
            "Meilleur F1 en validation croisée : 0.724\n"
          ]
        }
      ],
      "source": [
        "print(\"Meilleur F1 en validation croisée : %.3f\" % grid_rf.best_score_)"
      ]
    },
    {
      "cell_type": "code",
      "execution_count": 33,
      "metadata": {
        "id": "Wc4LSZI4Z5OP"
      },
      "outputs": [],
      "source": [
        "model_rf_best = grid_rf.best_estimator_"
      ]
    },
    {
      "cell_type": "markdown",
      "metadata": {
        "id": "GbHrZg2-Z-Kg"
      },
      "source": [
        "### Variable importance"
      ]
    },
    {
      "cell_type": "code",
      "source": [
        "fig = plt.figure(figsize(12, 6))\n",
        "\n",
        "num_features = X_train.shape[1]\n",
        "\n",
        "# Afficher les importances de l'arbre de décision\n",
        "plt.bar(range(num_features), model_rf_best.feature_importances_,\n",
        "           label=\"Arbre de decision\", width=0.5)\n",
        "\n",
        "# Légende\n",
        "tmp = plt.legend(fontsize=14)\n",
        "\n",
        "# Axe des abcisses\n",
        "plt.xlabel('Variables', fontsize=14)\n",
        "feature_names = list(df.columns[1:])\n",
        "tmp = plt.xticks(range(num_features), feature_names, \n",
        "                 rotation=90, fontsize=14)\n",
        "\n",
        "# Axe des ordonnées\n",
        "tmp = plt.ylabel('Importance', fontsize=14)\n",
        "\n",
        "# Titre\n",
        "tmp = plt.title('Importance des variables', fontsize=16)"
      ],
      "metadata": {
        "colab": {
          "base_uri": "https://localhost:8080/",
          "height": 514
        },
        "id": "O-KvzlZrJAv0",
        "outputId": "b31de9c0-441f-453b-834d-a322b3bb4923"
      },
      "execution_count": 34,
      "outputs": [
        {
          "output_type": "display_data",
          "data": {
            "text/plain": [
              "<Figure size 864x432 with 1 Axes>"
            ],
            "image/png": "[encoded data removed]"
          },
          "metadata": {
            "needs_background": "light"
          }
        }
      ]
    },
    {
      "cell_type": "markdown",
      "metadata": {
        "id": "RW1PRDtyatvQ"
      },
      "source": [
        "# Gradient Boosting\n",
        "\n",
        "the gradient boosting is implementated in scikit-learn in the class [GradientBoostingClassifier](https://scikit-learn.org/stable/modules/generated/sklearn.ensemble.GradientBoostingClassifier.html?highlight=boosting#sklearn.ensemble.GradientBoostingClassifier) in the module `ensemble`."
      ]
    },
    {
      "cell_type": "markdown",
      "metadata": {
        "id": "eSzR66B_a4mG"
      },
      "source": [
        "## Cross validation and hyperparmeters selection"
      ]
    },
    {
      "cell_type": "code",
      "execution_count": 38,
      "metadata": {
        "id": "J1V3DlRxaXH4"
      },
      "outputs": [],
      "source": [
        "n_values = np.array([50, 100, 150])\n",
        "d_values = np.array([3,10, 20])"
      ]
    },
    {
      "cell_type": "code",
      "execution_count": 39,
      "metadata": {
        "id": "EAU_QuPzbMHc"
      },
      "outputs": [],
      "source": [
        "# Instanciation d'un objet GridSearchCV\n",
        "grid_boost = model_selection.GridSearchCV(ensemble.GradientBoostingClassifier(), # prédicteur à évaluer\n",
        "                                       {'max_depth' : d_values, 'n_estimators': n_values}, # dictionnaire de valeurs d'hyperparamètres\n",
        "                                       cv=kf_indices, # validation croisée à utiliser\n",
        "                                       scoring='f1_weighted' # métrique d'évaluation de la performance\n",
        "                                       )"
      ]
    },
    {
      "cell_type": "code",
      "execution_count": 40,
      "metadata": {
        "colab": {
          "base_uri": "https://localhost:8080/"
        },
        "id": "rXKyJCQJbP-m",
        "outputId": "1c677c69-dd9d-42d1-ce25-0d67620c8406"
      },
      "outputs": [
        {
          "output_type": "stream",
          "name": "stdout",
          "text": [
            "CPU times: user 1h 9min 40s, sys: 14.3 s, total: 1h 9min 55s\n",
            "Wall time: 1h 9min 41s\n"
          ]
        },
        {
          "output_type": "execute_result",
          "data": {
            "text/plain": [
              "GridSearchCV(cv=[(array([    0,     1,     2, ..., 11788, 11789, 11790]),\n",
              "                  array([    3,    10,    14, ..., 11765, 11777, 11791])),\n",
              "                 (array([    0,     1,     2, ..., 11788, 11790, 11791]),\n",
              "                  array([   15,    21,    29, ..., 11760, 11766, 11789])),\n",
              "                 (array([    0,     2,     3, ..., 11789, 11790, 11791]),\n",
              "                  array([    1,    12,    17, ..., 11738, 11741, 11772])),\n",
              "                 (array([    0,     1,     2, ..., 11789, 11790, 11791]),\n",
              "                  array([    9,    26,    27, ..., 11756, 11762, 11781])),\n",
              "                 (array([    0,     1,     2, ..., 11...\n",
              "                 (array([    0,     1,     2, ..., 11789, 11790, 11791]),\n",
              "                  array([    8,    25,    32, ..., 11783, 11784, 11786])),\n",
              "                 (array([    0,     1,     3, ..., 11789, 11790, 11791]),\n",
              "                  array([    2,     4,     5, ..., 11757, 11764, 11787])),\n",
              "                 (array([    0,     1,     2, ..., 11789, 11790, 11791]),\n",
              "                  array([    7,    31,    40, ..., 11749, 11759, 11782]))],\n",
              "             estimator=GradientBoostingClassifier(),\n",
              "             param_grid={'max_depth': array([ 3, 10, 20]),\n",
              "                         'n_estimators': array([ 50, 100, 150])},\n",
              "             scoring='f1_weighted')"
            ]
          },
          "metadata": {},
          "execution_count": 40
        }
      ],
      "source": [
        "%%time\n",
        "\n",
        "# Utilisation de cet objet sur les données d'entraînement\n",
        "grid_boost.fit(X_train, y_train)"
      ]
    },
    {
      "cell_type": "code",
      "execution_count": 41,
      "metadata": {
        "id": "uFdmRCAebTz5",
        "colab": {
          "base_uri": "https://localhost:8080/"
        },
        "outputId": "6a5d6ff6-008d-41e5-aaef-aa12c903afcf"
      },
      "outputs": [
        {
          "output_type": "stream",
          "name": "stdout",
          "text": [
            "{'max_depth': 10, 'n_estimators': 100}\n"
          ]
        }
      ],
      "source": [
        "print(grid_boost.best_params_)"
      ]
    },
    {
      "cell_type": "code",
      "execution_count": 42,
      "metadata": {
        "id": "Q8Tu7JOlbZSL"
      },
      "outputs": [],
      "source": [
        "# Reorganize in a 2D table\n",
        "mean_test_score_array = np.reshape(grid_boost.cv_results_['mean_test_score'], (len(d_values), len(n_values)))\n",
        "std_test_score_array = np.reshape(grid_boost.cv_results_['std_test_score'], (len(d_values), len(n_values)))"
      ]
    },
    {
      "cell_type": "code",
      "execution_count": 43,
      "metadata": {
        "id": "qx5S8-ABbkfe",
        "colab": {
          "base_uri": "https://localhost:8080/",
          "height": 415
        },
        "outputId": "7c204d8b-f24e-4c12-bac8-77b708b29436"
      },
      "outputs": [
        {
          "output_type": "display_data",
          "data": {
            "text/plain": [
              "<Figure size 864x432 with 1 Axes>"
            ],
            "image/png": "[encoded data removed]"
          },
          "metadata": {
            "needs_background": "light"
          }
        }
      ],
      "source": [
        "for (idx, d) in enumerate(d_values):\n",
        "    mean_test_score = mean_test_score_array[idx, :]\n",
        "    stde_test_score = std_test_score_array[idx, :] / np.sqrt(n_folds) # standard error\n",
        "\n",
        "    p = plt.plot(n_values, mean_test_score, label=\"Profondeur max = %d\" % d)\n",
        "    plt.plot(n_values, (mean_test_score + stde_test_score), '--', color=p[0].get_color())\n",
        "    plt.plot(n_values, (mean_test_score - stde_test_score), '--', color=p[0].get_color())\n",
        "    plt.fill_between(n_values, (mean_test_score + stde_test_score), \n",
        "                     (mean_test_score - stde_test_score), alpha=0.2)\n",
        "    \n",
        "    # Afficher les meilleurs hyperparamètres\n",
        "    if d == grid_boost.best_params_['max_depth']:\n",
        "        best_ntree_index = np.where(n_values == grid_boost.best_params_['n_estimators'])[0][0]\n",
        "        plt.scatter(n_values[best_ntree_index], mean_test_score[best_ntree_index], \n",
        "                   marker='*', s=200, color='red')\n",
        "        \n",
        "plt.legend(loc=(1.1, 0))\n",
        "plt.xlabel(\"Nombre d'arbres\")\n",
        "plt.ylabel('F1')\n",
        "plt.title(\"Performance (en validation croisée) le long de la grille\")\n",
        "plt.xscale('log') # utiliser une échelle logarithmique en abcisse"
      ]
    },
    {
      "cell_type": "markdown",
      "metadata": {
        "id": "-OJRnphJbjqU"
      },
      "source": [
        "## Optimal boosting"
      ]
    },
    {
      "cell_type": "code",
      "execution_count": 44,
      "metadata": {
        "id": "yv_984dBbw-H",
        "colab": {
          "base_uri": "https://localhost:8080/"
        },
        "outputId": "9ddeeef3-a2aa-475e-950b-c8d555d19aab"
      },
      "outputs": [
        {
          "output_type": "stream",
          "name": "stdout",
          "text": [
            "Meilleur F1 en validation croisée : 0.725\n"
          ]
        }
      ],
      "source": [
        "print(\"Meilleur F1 en validation croisée : %.3f\" % grid_boost.best_score_)"
      ]
    },
    {
      "cell_type": "code",
      "execution_count": 45,
      "metadata": {
        "id": "sYJbFOsxb69_"
      },
      "outputs": [],
      "source": [
        "model_boost_best = grid_boost.best_estimator_"
      ]
    },
    {
      "cell_type": "markdown",
      "metadata": {
        "id": "MHMd6I8UcA3-"
      },
      "source": [
        "## Variable importance"
      ]
    },
    {
      "cell_type": "code",
      "execution_count": 47,
      "metadata": {
        "id": "-R4GsQ-rcFVJ",
        "colab": {
          "base_uri": "https://localhost:8080/",
          "height": 512
        },
        "outputId": "83fe24c0-aa14-4e12-8f7a-0be8e7cf2908"
      },
      "outputs": [
        {
          "output_type": "display_data",
          "data": {
            "text/plain": [
              "<Figure size 864x432 with 1 Axes>"
            ],
            "image/png": "[encoded data removed]"
          },
          "metadata": {
            "needs_background": "light"
          }
        }
      ],
      "source": [
        "fig = plt.figure(figsize(12, 6))\n",
        "\n",
        "num_features = X_train.shape[1]\n",
        "\n",
        "\n",
        "### Forêt aléatoire\n",
        "# Ramener les importances entre 0 et 1\n",
        "rf_importances = model_rf_best.feature_importances_\n",
        "rf_importances_min = np.min(rf_importances)\n",
        "rf_importances_max = np.max(rf_importances)\n",
        "rf_importances = (rf_importances-rf_importances_min)/(rf_importances_max-rf_importances_min)\n",
        "\n",
        "# Afficher les importances de la forêt\n",
        "plt.bar((np.arange(num_features)),  rf_importances,\n",
        "           label=\"Forêt aléatoire\", width=0.4)\n",
        "\n",
        "### Boosting\n",
        "# Ramener les importances entre 0 et 1\n",
        "boost_importances = model_boost_best.feature_importances_\n",
        "boost_importances_min = np.min(boost_importances)\n",
        "boost_importances_max = np.max(boost_importances)\n",
        "boost_importances = (boost_importances-boost_importances_min)/(boost_importances_max-boost_importances_min)\n",
        "\n",
        "# Afficher les importances du boosting\n",
        "plt.bar((np.arange(num_features)+0.4),  boost_importances,\n",
        "           label=\"Boosting\", width=0.4)\n",
        "\n",
        "# Légende\n",
        "tmp = plt.legend()\n",
        "\n",
        "# Axe des abcisses\n",
        "plt.xlabel('Variables')\n",
        "feature_names = list(df.columns[1:])\n",
        "tmp = plt.xticks(range(num_features), feature_names, \n",
        "                 rotation=90, fontsize=14)\n",
        "\n",
        "# Axe des ordonnées\n",
        "tmp = plt.ylabel('Importance')\n",
        "\n",
        "# Titre\n",
        "tmp = plt.title('Importance des variables')"
      ]
    },
    {
      "cell_type": "markdown",
      "metadata": {
        "id": "fWgRNsh0cKpA"
      },
      "source": [
        "# Final model"
      ]
    },
    {
      "cell_type": "code",
      "execution_count": 49,
      "metadata": {
        "id": "7Klrm4DNcR3H"
      },
      "outputs": [],
      "source": [
        "my_model = model_boost_best # TODO : insérez ici le nom du modèle que vous avez choisi.\n",
        "\n",
        "# Prédire sur le jeu de test\n",
        "y_pred = my_model.predict(X_test) "
      ]
    },
    {
      "cell_type": "code",
      "execution_count": 50,
      "metadata": {
        "id": "qm8VFABGcbvE"
      },
      "outputs": [],
      "source": [
        "from sklearn import metrics"
      ]
    },
    {
      "cell_type": "code",
      "execution_count": 52,
      "metadata": {
        "id": "lIZIsH1Sceza",
        "colab": {
          "base_uri": "https://localhost:8080/"
        },
        "outputId": "3be1b51d-6354-4f5e-9601-efb2967426a7"
      },
      "outputs": [
        {
          "output_type": "stream",
          "name": "stdout",
          "text": [
            "F1 du modèle choisir sur le jeu de test : 0.739\n"
          ]
        }
      ],
      "source": [
        "print(\"F1 du modèle choisir sur le jeu de test : %.3f\" % metrics.f1_score(y_test, y_pred, average = 'weighted'))"
      ]
    },
    {
      "cell_type": "markdown",
      "metadata": {
        "id": "S4lQw5rXc9Oz"
      },
      "source": [
        "# Confusion matrix "
      ]
    },
    {
      "cell_type": "code",
      "execution_count": 53,
      "metadata": {
        "id": "8RySSraSdCy8",
        "colab": {
          "base_uri": "https://localhost:8080/",
          "height": 412
        },
        "outputId": "190f14c9-b68a-49e5-b749-2836e690af6a"
      },
      "outputs": [
        {
          "output_type": "execute_result",
          "data": {
            "text/plain": [
              "<sklearn.metrics._plot.confusion_matrix.ConfusionMatrixDisplay at 0x7fc1d5a15510>"
            ]
          },
          "metadata": {},
          "execution_count": 53
        },
        {
          "output_type": "display_data",
          "data": {
            "text/plain": [
              "<Figure size 864x432 with 2 Axes>"
            ],
            "image/png": "[encoded data removed]"
          },
          "metadata": {
            "needs_background": "light"
          }
        }
      ],
      "source": [
        "metrics.ConfusionMatrixDisplay.from_predictions(y_test, y_pred)"
      ]
    }
  ],
  "metadata": {
    "colab": {
      "collapsed_sections": [],
      "name": "random_forest.ipynb",
      "provenance": [],
      "authorship_tag": "ABX9TyOHq7I4y6cHC6Ga00TRG7GC",
      "include_colab_link": true
    },
    "kernelspec": {
      "display_name": "Python 3",
      "name": "python3"
    },
    "language_info": {
      "name": "python"
    },
    "accelerator": "GPU"
  },
  "nbformat": 4,
  "nbformat_minor": 0
}